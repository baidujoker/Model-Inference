{
 "cells": [
  {
   "cell_type": "code",
   "execution_count": 11,
   "metadata": {
    "collapsed": true
   },
   "outputs": [],
   "source": [
    "import networkx as nx\n",
    "import matplotlib.pyplot as plt"
   ]
  },
  {
   "cell_type": "code",
   "execution_count": 12,
   "metadata": {
    "collapsed": true
   },
   "outputs": [],
   "source": [
    "import itertools\n",
    "\n",
    "def genOneCombo(dialogID):\n",
    "    ids = [tagToID[tag] for tag in testDict[dialogID]]\n",
    "    return itertools.product(*ids)"
   ]
  },
  {
   "cell_type": "code",
   "execution_count": 13,
   "metadata": {
    "collapsed": true
   },
   "outputs": [],
   "source": [
    "traces_nums = [20, 100, 500, 1000, 2000, 2034]\n",
    "model_dir = 'qa_{0}.dot'\n",
    "test_dir = '../traces/traces_for_acc/traces_{0}_test.txt'\n",
    "# traces_num = 2034"
   ]
  },
  {
   "cell_type": "code",
   "execution_count": 15,
   "metadata": {},
   "outputs": [
    {
     "name": "stdout",
     "output_type": "stream",
     "text": [
      "trace_num:\n",
      "0.410256410256\n",
      "trace_num:\n",
      "0.699248120301\n",
      "trace_num:\n",
      "0.632681564246\n",
      "trace_num:\n",
      "0.621733149931\n",
      "trace_num:\n",
      "0.629723837209\n",
      "trace_num:\n",
      "0.627948534668\n"
     ]
    }
   ],
   "source": [
    "for traces_num in traces_nums:\n",
    "    G = nx.drawing.nx_pydot.read_dot(model_dir.format(traces_num))\n",
    "    tagToID = {}\n",
    "    for node, label in G.node.items():\n",
    "        try:\n",
    "            tagToID[label['label'][1:-1]].append(node)\n",
    "        except:\n",
    "            tagToID[label['label'][1:-1]] = []\n",
    "            tagToID[label['label'][1:-1]].append(node)\n",
    "\n",
    "    testDict = {}\n",
    "    with open(test_dir.format(traces_num)) as test:\n",
    "        for line in test:\n",
    "            tokens = line.strip().split(', ')\n",
    "            tag = tokens[0]\n",
    "            dialogID = tokens[1]\n",
    "            try:\n",
    "                testDict[dialogID].append(tag)\n",
    "            except:\n",
    "                testDict[dialogID] = []\n",
    "                testDict[dialogID].append(tag)\n",
    "    total_count = len(testDict)\n",
    "\n",
    "    initialBFS = nx.bfs_successors(G, tagToID['INITIAL'][0])[tagToID['INITIAL'][0]]\n",
    "    success = []\n",
    "    count = 0\n",
    "    for dialogID in testDict:\n",
    "        count += 1\n",
    "#         print count\n",
    "        comboCount = 0\n",
    "        for combo in genOneCombo(dialogID):\n",
    "            comboCount += 1\n",
    "            if comboCount > 1000000:\n",
    "                break\n",
    "            fullLen = len(combo)\n",
    "            nextState = initialBFS\n",
    "            i = 0\n",
    "            for state in combo:\n",
    "\n",
    "        #         state = tagToID[stateID]\n",
    "        #         print state, nextState\n",
    "                if state not in nextState:\n",
    "    #                 print 'fail', dialogID\n",
    "                    break\n",
    "                else:\n",
    "                    nextState = nx.bfs_successors(G, state)[state]\n",
    "                    i += 1\n",
    "            if i == fullLen:\n",
    "    #             print 'success'\n",
    "    #             print dialogID\n",
    "    #             print combo\n",
    "                success.append(dialogID)\n",
    "                break\n",
    "    success_count = len(success)\n",
    "    \n",
    "    print(trace_num)\n",
    "    print(float(success_count) / total_count)"
   ]
  },
  {
   "cell_type": "code",
   "execution_count": 5,
   "metadata": {},
   "outputs": [],
   "source": []
  },
  {
   "cell_type": "code",
   "execution_count": 6,
   "metadata": {},
   "outputs": [],
   "source": [
    "# import itertools\n",
    "# testExpandedDict = {}\n",
    "# count = 0\n",
    "# for key, value in testDict.items():\n",
    "#     count += 1\n",
    "#     print count\n",
    "#     print key\n",
    "#     ids = [tagToID[tag] for tag in value]\n",
    "#     expandedIDs = map(list, list(itertools.product(*ids)))\n",
    "#     testExpandedDict[key] = expandedIDs\n",
    "    #print key, expandedIDs\n",
    "#print testExpandedDict['15684']"
   ]
  },
  {
   "cell_type": "code",
   "execution_count": 9,
   "metadata": {},
   "outputs": [],
   "source": []
  },
  {
   "cell_type": "code",
   "execution_count": null,
   "metadata": {
    "collapsed": true
   },
   "outputs": [],
   "source": []
  }
 ],
 "metadata": {
  "kernelspec": {
   "display_name": "Python 2",
   "language": "python",
   "name": "python2"
  },
  "language_info": {
   "codemirror_mode": {
    "name": "ipython",
    "version": 2
   },
   "file_extension": ".py",
   "mimetype": "text/x-python",
   "name": "python",
   "nbconvert_exporter": "python",
   "pygments_lexer": "ipython2",
   "version": "2.7.13"
  }
 },
 "nbformat": 4,
 "nbformat_minor": 2
}
