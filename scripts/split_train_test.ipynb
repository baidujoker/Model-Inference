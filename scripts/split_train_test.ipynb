{
 "cells": [
  {
   "cell_type": "code",
   "execution_count": 1,
   "metadata": {
    "collapsed": true
   },
   "outputs": [],
   "source": [
    "test_percent = 0.1\n",
    "traces_nums = [20, 100, 500, 1000, 2000, 2034]"
   ]
  },
  {
   "cell_type": "code",
   "execution_count": 9,
   "metadata": {},
   "outputs": [],
   "source": [
    "for traces_num in traces_nums:\n",
    "    traces_dict = {}\n",
    "    traces = 'traces_{0}.txt'.format(traces_num)\n",
    "    i = 0\n",
    "    with open(traces) as traces_file:\n",
    "        for line in traces_file:\n",
    "            line = line.strip()\n",
    "            i += 1\n",
    "            if line != '':\n",
    "                tokens = line.split(', ')\n",
    "                tag, trace_id = tokens[0], tokens[1]\n",
    "                try:\n",
    "                    traces_dict[trace_id].append(tag)\n",
    "                except:\n",
    "                    traces_dict[trace_id] = []\n",
    "                    traces_dict[trace_id].append(tag)\n",
    "\n",
    "        traces_train = 'traces_{0}_train.txt'.format(traces_num)\n",
    "        traces_test = 'traces_{0}_test.txt'.format(traces_num)\n",
    "        total_count = len(traces_dict)\n",
    "        train_count = 0.9 * total_count\n",
    "\n",
    "        count = 0\n",
    "        with open(traces_train, 'w') as train, open(traces_test, 'w') as test:\n",
    "            for trace_id in traces_dict:\n",
    "                count += 1\n",
    "                if count <= train_count:\n",
    "                    separater = ', ' + str(trace_id) + '\\n'\n",
    "                    train.write(separater.join(traces_dict[trace_id]))\n",
    "                    train.write(separater)\n",
    "                else:\n",
    "                    separater = ', ' + str(trace_id) + '\\n'\n",
    "                    test.write(separater.join(traces_dict[trace_id]))\n",
    "                    test.write(separater)"
   ]
  },
  {
   "cell_type": "code",
   "execution_count": null,
   "metadata": {
    "collapsed": true
   },
   "outputs": [],
   "source": []
  }
 ],
 "metadata": {
  "kernelspec": {
   "display_name": "Python 2",
   "language": "python",
   "name": "python2"
  },
  "language_info": {
   "codemirror_mode": {
    "name": "ipython",
    "version": 2
   },
   "file_extension": ".py",
   "mimetype": "text/x-python",
   "name": "python",
   "nbconvert_exporter": "python",
   "pygments_lexer": "ipython2",
   "version": "2.7.13"
  }
 },
 "nbformat": 4,
 "nbformat_minor": 2
}
