{
 "cells": [
  {
   "cell_type": "code",
   "execution_count": 1,
   "metadata": {
    "collapsed": true
   },
   "outputs": [],
   "source": [
    "n = 500"
   ]
  },
  {
   "cell_type": "code",
   "execution_count": 4,
   "metadata": {},
   "outputs": [],
   "source": [
    "dialog_ids = set()\n",
    "\n",
    "with open('traces_all_sorted.txt') as all_traces, open('traces_{0}.txt'.format(n), 'w') as part_traces:\n",
    "    for line in all_traces:\n",
    "        dialog_id = line.split(', ')[1].strip().split('_')[0]\n",
    "        dialog_ids.add(dialog_id)\n",
    "        if len(dialog_ids) > 500:\n",
    "            break\n",
    "        else:\n",
    "            part_traces.write(line)"
   ]
  },
  {
   "cell_type": "code",
   "execution_count": null,
   "metadata": {
    "collapsed": true
   },
   "outputs": [],
   "source": []
  }
 ],
 "metadata": {
  "kernelspec": {
   "display_name": "Python 2",
   "language": "python",
   "name": "python2"
  },
  "language_info": {
   "codemirror_mode": {
    "name": "ipython",
    "version": 2
   },
   "file_extension": ".py",
   "mimetype": "text/x-python",
   "name": "python",
   "nbconvert_exporter": "python",
   "pygments_lexer": "ipython2",
   "version": "2.7.13"
  }
 },
 "nbformat": 4,
 "nbformat_minor": 2
}
